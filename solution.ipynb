{
 "cells": [
  {
   "cell_type": "markdown",
   "id": "22cc10f5",
   "metadata": {},
   "source": [
    "# Case Study 2: Revenue Management"
   ]
  },
  {
   "cell_type": "markdown",
   "id": "2765059b",
   "metadata": {},
   "source": [
    "## Q1 – Calibrate Advance Sale Policies\n",
    "\n",
    "Clara offers discounted advance rates — but only up to a certain number of bookings. Selling too many rooms in advance may lead to turning away spontaneous, higher-paying guests. Selling too few could leave occupancy short.\n",
    "\n",
    "Using realized stays identify meaningful guest segments for each hotel. When do different types of guests book? What prices do they pay?\n",
    "\n",
    "Estimate how many rooms Clara could allocate to advance sales for each property. Focus on lead times and potentially guest mix.\n"
   ]
  },
  {
   "cell_type": "markdown",
   "id": "56248d51",
   "metadata": {},
   "source": [
    "## Q2 – Derive Overbooking Parameters\n",
    "\n",
    "Clara wants to implement an overbooking policy to mitigate late cancellations and no-shows. But overbooking comes with risk: walk-aways hurt guest satisfaction and brand image.\n",
    "\n",
    "Use historical data to estimate a robust overbooking buffer for each hotel. How many extra bookings can Clara accept without incurring frequent walk-aways?\n",
    "\n",
    "Explain any trade-offs and assumptions you make."
   ]
  },
  {
   "cell_type": "markdown",
   "id": "ea312f04",
   "metadata": {},
   "source": [
    "## Q3 – Seasonally Update Your Rules\n",
    "\n",
    "Demand patterns change throughout the year, and Clara would like to **adapt** her advance sale and overbooking thresholds to seasonality.\n",
    "\n",
    "Using appropriate aggregates from past years, identify periods of stronger or weaker demand for each hotel. How would your advance booking limits and overbooking buffers from Q1 and Q2 change across these periods?\n",
    "\n",
    "Provide updated rules for both city and resort hotels and justify your logic using observed patterns."
   ]
  },
  {
   "cell_type": "markdown",
   "id": "7eb7cffa",
   "metadata": {},
   "source": [
    "## Q4 – Operate on Live Booking Data\n",
    "\n",
    "Imagine Clara gives you access to a daily stream of individual bookings coming in for the next season. For each booking, you see the date, stay period, channel, price.\n",
    "\n",
    "Design a **monitoring system** that updates Clara’s advance sale ceilings and overbooking parameters as real bookings accumulate. What metrics would you track? How would you flag when adjustments are needed?\n",
    "\n",
    "Use a small mock dataset or simulated example to demonstrate how this dynamic process could work. Highlight how **static rules** (from Q1 and Q2) evolve when applied in real time."
   ]
  }
 ],
 "metadata": {
  "language_info": {
   "name": "python"
  }
 },
 "nbformat": 4,
 "nbformat_minor": 5
}
